{
  "cells": [
    {
      "cell_type": "markdown",
      "source": [
        "#**Importing Libraries**"
      ],
      "metadata": {
        "id": "hKCh9hJl4Fuu"
      }
    },
    {
      "cell_type": "code",
      "source": [
        "import torch\n",
        "import pandas as pd\n",
        "import numpy as np\n",
        "import matplotlib.pyplot as plt\n",
        "print(torch.__version__)"
      ],
      "metadata": {
        "id": "d-UH3GOEddXn"
      },
      "execution_count": null,
      "outputs": []
    },
    {
      "cell_type": "markdown",
      "source": [
        "---\n",
        "#**Introduction to Tensors**\n",
        "---\n",
        "\n"
      ],
      "metadata": {
        "id": "N55qDfkE0gjB"
      }
    },
    {
      "cell_type": "markdown",
      "source": [
        "##Creating Tensors"
      ],
      "metadata": {
        "id": "_qXIHLWC1F0B"
      }
    },
    {
      "cell_type": "markdown",
      "source": [
        "###*SCALAR*\n",
        "\n"
      ],
      "metadata": {
        "id": "bW_ks-Em1zNV"
      }
    },
    {
      "cell_type": "code",
      "source": [
        "#scalar\n",
        "scalar=torch.tensor(7)\n",
        "scalar"
      ],
      "metadata": {
        "id": "5d2GJ_bRwBP2"
      },
      "execution_count": null,
      "outputs": []
    },
    {
      "cell_type": "code",
      "source": [
        "#Show the dimension\n",
        "scalar.ndim"
      ],
      "metadata": {
        "id": "grlhdIomxAxa"
      },
      "execution_count": null,
      "outputs": []
    },
    {
      "cell_type": "code",
      "source": [
        "#Get back tensor as Python int\n",
        "scalar.item()"
      ],
      "metadata": {
        "id": "0f805o12xw_x"
      },
      "execution_count": null,
      "outputs": []
    },
    {
      "cell_type": "markdown",
      "source": [
        "###*VECTOR*"
      ],
      "metadata": {
        "id": "F0kAt1rd2pt4"
      }
    },
    {
      "cell_type": "code",
      "source": [
        "#vector\n",
        "vector=torch.tensor([7,7])\n",
        "vector"
      ],
      "metadata": {
        "id": "ULlM8PKkx7O8"
      },
      "execution_count": null,
      "outputs": []
    },
    {
      "cell_type": "code",
      "source": [
        "vector.ndim"
      ],
      "metadata": {
        "id": "DvwXnS77yHc5"
      },
      "execution_count": null,
      "outputs": []
    },
    {
      "cell_type": "code",
      "source": [
        "vector.shape"
      ],
      "metadata": {
        "id": "S4MjpuHayY9f"
      },
      "execution_count": null,
      "outputs": []
    },
    {
      "cell_type": "markdown",
      "source": [
        "###*MATRIX*"
      ],
      "metadata": {
        "id": "OTCM1MVF2xfU"
      }
    },
    {
      "cell_type": "code",
      "source": [
        "#MATRIX\n",
        "MATRIX=torch.tensor([[1,2],\n",
        "                     [3,4]])\n",
        "MATRIX"
      ],
      "metadata": {
        "id": "YfOB9xGCyamW"
      },
      "execution_count": null,
      "outputs": []
    },
    {
      "cell_type": "code",
      "source": [
        "MATRIX.ndim"
      ],
      "metadata": {
        "id": "2kS4vyGXy0Cb"
      },
      "execution_count": null,
      "outputs": []
    },
    {
      "cell_type": "code",
      "source": [
        "MATRIX[1]"
      ],
      "metadata": {
        "id": "ulCdXMm3y-ma"
      },
      "execution_count": null,
      "outputs": []
    },
    {
      "cell_type": "code",
      "source": [
        "MATRIX.shape"
      ],
      "metadata": {
        "id": "19uoX9yVzCTm"
      },
      "execution_count": null,
      "outputs": []
    },
    {
      "cell_type": "markdown",
      "source": [
        "###*TENSOR*"
      ],
      "metadata": {
        "id": "O8QHy3B1264y"
      }
    },
    {
      "cell_type": "code",
      "source": [
        "#TENSOR\n",
        "TENSOR=torch.tensor([[[1,2,3],\n",
        "                      [3,6,9],\n",
        "                      [2,4,5]]])\n",
        "TENSOR"
      ],
      "metadata": {
        "id": "9HBV7w1szHZe"
      },
      "execution_count": null,
      "outputs": []
    },
    {
      "cell_type": "code",
      "source": [
        "TENSOR.ndim"
      ],
      "metadata": {
        "id": "xKUevIQXzgrO"
      },
      "execution_count": null,
      "outputs": []
    },
    {
      "cell_type": "code",
      "source": [
        "TENSOR.shape"
      ],
      "metadata": {
        "id": "NjU8xWgOzkrY"
      },
      "execution_count": null,
      "outputs": []
    },
    {
      "cell_type": "code",
      "source": [
        "TENSOR[0][1][1]"
      ],
      "metadata": {
        "id": "aNo_AZq4zm2U"
      },
      "execution_count": null,
      "outputs": []
    },
    {
      "cell_type": "markdown",
      "source": [
        "##Random Tensors"
      ],
      "metadata": {
        "id": "1uXcs25j7KIe"
      }
    },
    {
      "cell_type": "code",
      "source": [
        "#Creating random tensor of size (3,4)\n",
        "random_tensor=torch.rand(3,4)\n",
        "random_tensor"
      ],
      "metadata": {
        "id": "M8wdyFLg0CxX"
      },
      "execution_count": null,
      "outputs": []
    },
    {
      "cell_type": "code",
      "source": [
        "random_tensor.ndim"
      ],
      "metadata": {
        "id": "MvTTxmaH8c9p"
      },
      "execution_count": null,
      "outputs": []
    },
    {
      "cell_type": "code",
      "source": [
        "#Create a random tensor with similar shape of an image tensor\n",
        "random_image=torch.rand(size=(255,255,3)) #height,width,color_channels (R,G,B)\n",
        "random_image"
      ],
      "metadata": {
        "id": "_1aYSBP28lAX"
      },
      "execution_count": null,
      "outputs": []
    },
    {
      "cell_type": "code",
      "source": [
        "random_image.shape,random_image.ndim"
      ],
      "metadata": {
        "id": "Ar0qyaNg9aON"
      },
      "execution_count": null,
      "outputs": []
    },
    {
      "cell_type": "markdown",
      "source": [
        "##Zeros and Ones"
      ],
      "metadata": {
        "id": "n5IW5IIlXKFS"
      }
    },
    {
      "cell_type": "code",
      "source": [
        "#Create a tensor of all zeros\n",
        "zeros=torch.zeros(3,4)\n",
        "zeros"
      ],
      "metadata": {
        "id": "lvXvrFX29n-v"
      },
      "execution_count": null,
      "outputs": []
    },
    {
      "cell_type": "code",
      "source": [
        "#Create a tensor of all ones\n",
        "ones=torch.ones(3,4)\n",
        "ones"
      ],
      "metadata": {
        "id": "C39VqbxdXtwo"
      },
      "execution_count": null,
      "outputs": []
    },
    {
      "cell_type": "markdown",
      "source": [
        "##Creating a range of tensors and tensors-like"
      ],
      "metadata": {
        "id": "VLVVuGnKdVfv"
      }
    },
    {
      "cell_type": "code",
      "source": [
        "#Using arange()\n",
        "num_from_range=torch.arange(start=0,end=10,step=1)\n",
        "num_from_range"
      ],
      "metadata": {
        "id": "GsSgoAfndKdA"
      },
      "execution_count": null,
      "outputs": []
    },
    {
      "cell_type": "code",
      "source": [
        "#Creating tensor-like\n",
        "ten_zeros=torch.zeros_like(input=num_from_range)\n",
        "ten_zeros"
      ],
      "metadata": {
        "id": "w6nVORbad854"
      },
      "execution_count": null,
      "outputs": []
    },
    {
      "cell_type": "markdown",
      "source": [
        "##Tensor Datatypes"
      ],
      "metadata": {
        "id": "kwS3MSJOfGxW"
      }
    },
    {
      "cell_type": "markdown",
      "source": [
        "###*Float 32*"
      ],
      "metadata": {
        "id": "cSCRTBMnflar"
      }
    },
    {
      "cell_type": "code",
      "source": [
        "#Float32 tensor\n",
        "float_32_tensor=torch.tensor([2.0,3.0,4.0],\n",
        "                             dtype=None, #it is the datatype of the tensor\n",
        "                             device=None, #device your tensor is on\n",
        "                             requires_grad=False) #whether or not to track gradients while calculating\n",
        "float_32_tensor"
      ],
      "metadata": {
        "id": "fvooO8dketKb"
      },
      "execution_count": null,
      "outputs": []
    },
    {
      "cell_type": "code",
      "source": [
        "float_32_tensor.dtype"
      ],
      "metadata": {
        "id": "0zHRO4iqfeUY"
      },
      "execution_count": null,
      "outputs": []
    },
    {
      "cell_type": "markdown",
      "source": [
        "###*Float 16*"
      ],
      "metadata": {
        "id": "gDsAaZ6Zhq_4"
      }
    },
    {
      "cell_type": "code",
      "source": [
        "float_16_tensor=float_32_tensor.type(torch.float16)\n",
        "float_16_tensor"
      ],
      "metadata": {
        "id": "YvkuW_XkfitD"
      },
      "execution_count": null,
      "outputs": []
    },
    {
      "cell_type": "code",
      "source": [
        "float_16_tensor.dtype"
      ],
      "metadata": {
        "id": "187DMNoWhmme"
      },
      "execution_count": null,
      "outputs": []
    },
    {
      "cell_type": "markdown",
      "source": [
        "###*Int 32*"
      ],
      "metadata": {
        "id": "2dXMAMJPh251"
      }
    },
    {
      "cell_type": "code",
      "source": [
        "int_32_tensor=float_16_tensor.type(torch.int32)\n",
        "int_32_tensor"
      ],
      "metadata": {
        "id": "-tW3Ck9xh1QE"
      },
      "execution_count": null,
      "outputs": []
    },
    {
      "cell_type": "code",
      "source": [
        "int_32_tensor.dtype"
      ],
      "metadata": {
        "id": "KX5kD9xLihA-"
      },
      "execution_count": null,
      "outputs": []
    },
    {
      "cell_type": "markdown",
      "source": [
        "###*Int 16*"
      ],
      "metadata": {
        "id": "sixrTIPVipv4"
      }
    },
    {
      "cell_type": "code",
      "source": [
        "int_16_tensor=int_32_tensor.type(torch.int16)\n",
        "int_16_tensor"
      ],
      "metadata": {
        "id": "E6iKKQ5vioJ6"
      },
      "execution_count": null,
      "outputs": []
    },
    {
      "cell_type": "code",
      "source": [
        "int_16_tensor.dtype"
      ],
      "metadata": {
        "id": "cBX8e8pii0ye"
      },
      "execution_count": null,
      "outputs": []
    },
    {
      "cell_type": "markdown",
      "source": [
        "##Manipulating Tensors\n",
        "\n"
      ],
      "metadata": {
        "id": "mUBE9xDoi6qq"
      }
    },
    {
      "cell_type": "markdown",
      "source": [
        "###*Addition*"
      ],
      "metadata": {
        "id": "PUcBY_XAkyOZ"
      }
    },
    {
      "cell_type": "code",
      "source": [
        "tensor=torch.tensor([1,2,3])\n",
        "tensor_add=tensor+10\n",
        "tensor_add"
      ],
      "metadata": {
        "id": "tcBwIhypi39-"
      },
      "execution_count": null,
      "outputs": []
    },
    {
      "cell_type": "markdown",
      "source": [
        "###*Multiplication*"
      ],
      "metadata": {
        "id": "dL6FTxbWlunS"
      }
    },
    {
      "cell_type": "code",
      "source": [
        "tensor_mult=tensor*10\n",
        "tensor_mult"
      ],
      "metadata": {
        "id": "SZBIaR9FlrAW"
      },
      "execution_count": null,
      "outputs": []
    },
    {
      "cell_type": "markdown",
      "source": [
        "###*Subtraction*"
      ],
      "metadata": {
        "id": "t-Ad4K8Hl4SM"
      }
    },
    {
      "cell_type": "code",
      "source": [
        "tensor_sub=tensor-10\n",
        "tensor_sub"
      ],
      "metadata": {
        "id": "X08jUXZAl1ok"
      },
      "execution_count": null,
      "outputs": []
    },
    {
      "cell_type": "markdown",
      "source": [
        "###*Division*"
      ],
      "metadata": {
        "id": "u5oFm3h8mDkU"
      }
    },
    {
      "cell_type": "code",
      "source": [
        "tensor_div=tensor/10\n",
        "tensor_div"
      ],
      "metadata": {
        "id": "EhQdCI9cmARe"
      },
      "execution_count": null,
      "outputs": []
    },
    {
      "cell_type": "markdown",
      "source": [
        "###*Matrix Multiplication*"
      ],
      "metadata": {
        "id": "7NvXhyQ7mhOB"
      }
    },
    {
      "cell_type": "code",
      "source": [
        "#ELement-wise multiplication\n",
        "tensor_element_wise=tensor*tensor\n",
        "tensor_element_wise"
      ],
      "metadata": {
        "id": "7P7W2BZGmKmi"
      },
      "execution_count": null,
      "outputs": []
    },
    {
      "cell_type": "code",
      "source": [
        "#Matrix Multiplication\n",
        "tensor_mat_mult=torch.matmul(tensor,tensor)\n",
        "tensor_mat_mult"
      ],
      "metadata": {
        "id": "_Oag0Iwnoyzn"
      },
      "execution_count": null,
      "outputs": []
    },
    {
      "cell_type": "code",
      "source": [
        "#Shapes of matrix multiplication\n",
        "tensor_A=torch.rand(2,3)\n",
        "tensor_B=torch.rand(3,2)\n",
        "\n",
        "#can do with these three methods\n",
        "print(\n",
        "    '\\n',\n",
        "    tensor_A @ tensor_B,\n",
        "    '\\n',\n",
        "    torch.matmul(tensor_A,tensor_B),\n",
        "    '\\n',\n",
        "    torch.mm(tensor_A,tensor_B)\n",
        "    )"
      ],
      "metadata": {
        "id": "QvGkAKXlo9q0"
      },
      "execution_count": null,
      "outputs": []
    },
    {
      "cell_type": "markdown",
      "source": [
        "###*Transpose of a Matrix*"
      ],
      "metadata": {
        "id": "S2E9do8PvJc3"
      }
    },
    {
      "cell_type": "code",
      "source": [
        "print(tensor_A,'\\n\\n',tensor_A.T)"
      ],
      "metadata": {
        "id": "FQByO_ixuMtO"
      },
      "execution_count": null,
      "outputs": []
    },
    {
      "cell_type": "code",
      "source": [
        "print(tensor_B,'\\n\\n',tensor_B.T)"
      ],
      "metadata": {
        "id": "X5Vz5NocvRLU"
      },
      "execution_count": null,
      "outputs": []
    },
    {
      "cell_type": "markdown",
      "source": [
        "##Tensor Aggregations"
      ],
      "metadata": {
        "id": "8T_ieWH6wJ5V"
      }
    },
    {
      "cell_type": "code",
      "source": [
        "tensor_agg=torch.arange(1,11).type(torch.float32)\n",
        "\n",
        "#Find the min\n",
        "print(torch.min(tensor_agg),'\\t',tensor_agg.min())"
      ],
      "metadata": {
        "id": "yNeBZmmsvX1h"
      },
      "execution_count": null,
      "outputs": []
    },
    {
      "cell_type": "code",
      "source": [
        "#Find the max\n",
        "print(torch.max(tensor_agg),'\\t',tensor_agg.max())"
      ],
      "metadata": {
        "id": "uhVoDBVNwqhL"
      },
      "execution_count": null,
      "outputs": []
    },
    {
      "cell_type": "code",
      "source": [
        "#Find the mean\n",
        "print(torch.mean(tensor_agg),'\\t',tensor_agg.mean())"
      ],
      "metadata": {
        "id": "FMUIT4pwxZQK"
      },
      "execution_count": null,
      "outputs": []
    },
    {
      "cell_type": "code",
      "source": [
        "#Find the sum\n",
        "print(torch.sum(tensor_agg),'\\t',tensor_agg.sum())"
      ],
      "metadata": {
        "id": "MP-7FC5fxiuw"
      },
      "execution_count": null,
      "outputs": []
    },
    {
      "cell_type": "markdown",
      "source": [
        "###*Finding the argmin() and argmax()*"
      ],
      "metadata": {
        "id": "LhDw7YqCylGD"
      }
    },
    {
      "cell_type": "code",
      "source": [
        "#argmin() --> returns the index position of target tensor where the minimum value occurs\n",
        "print(torch.argmin(tensor_agg),'\\t',tensor_agg.argmin())"
      ],
      "metadata": {
        "id": "dsu4dWIWyjBe"
      },
      "execution_count": null,
      "outputs": []
    },
    {
      "cell_type": "code",
      "source": [
        "tensor_agg[0]"
      ],
      "metadata": {
        "id": "iL75rR5dzVDd"
      },
      "execution_count": null,
      "outputs": []
    },
    {
      "cell_type": "code",
      "source": [
        "#argmax() --> returns the index position of target tensor where the maximum value occurs\n",
        "print(torch.argmax(tensor_agg),'\\t',tensor_agg.argmax())"
      ],
      "metadata": {
        "id": "Q4oXcS66zfCa"
      },
      "execution_count": null,
      "outputs": []
    },
    {
      "cell_type": "code",
      "source": [
        "tensor_agg[9]"
      ],
      "metadata": {
        "id": "kZq6qhTMzmsC"
      },
      "execution_count": null,
      "outputs": []
    },
    {
      "cell_type": "markdown",
      "source": [
        "##Reshaping, stacking, squeezing and unsqueezing tensors"
      ],
      "metadata": {
        "id": "i72HfMWNzx_r"
      }
    },
    {
      "cell_type": "code",
      "source": [
        "#Creating a new tensor\n",
        "tensor_C=torch.arange(1,13)\n",
        "tensor_C_dimen=tensor_C.reshape(1,1,12)"
      ],
      "metadata": {
        "id": "iczfOTM3zpZI"
      },
      "execution_count": null,
      "outputs": []
    },
    {
      "cell_type": "markdown",
      "source": [
        "###*.reshape()*"
      ],
      "metadata": {
        "id": "ZyyOYzYg4-sN"
      }
    },
    {
      "cell_type": "code",
      "source": [
        "#reshapes to a different dimension\n",
        "tensor_C_reshaped=tensor_C.reshape(2,6)\n",
        "print('\\n',tensor_C,'\\n\\n',tensor_C_reshaped)"
      ],
      "metadata": {
        "id": "GxXzApzM2bKG"
      },
      "execution_count": null,
      "outputs": []
    },
    {
      "cell_type": "markdown",
      "source": [
        "###*.view()*"
      ],
      "metadata": {
        "id": "kagW9hBM5DK4"
      }
    },
    {
      "cell_type": "code",
      "source": [
        "#Change the view\n",
        "tensor_C_copy=tensor_C.view(3,4)\n",
        "print('\\n',tensor_C,'\\n\\n',tensor_C_copy)"
      ],
      "metadata": {
        "id": "-4OMkmH3240U"
      },
      "execution_count": null,
      "outputs": []
    },
    {
      "cell_type": "code",
      "source": [
        "#Changing the value of the .view() changes the original\n",
        "tensor_C_copy[:,3]=2\n",
        "print('\\n',tensor_C,'\\n\\n',tensor_C_copy)"
      ],
      "metadata": {
        "id": "Js_gSyDF4Hm8"
      },
      "execution_count": null,
      "outputs": []
    },
    {
      "cell_type": "markdown",
      "source": [
        "###*.stack()*"
      ],
      "metadata": {
        "id": "5iKTBObL5otL"
      }
    },
    {
      "cell_type": "code",
      "source": [
        "#Stack tensors on top of each other\n",
        "tensor_C_stacked=torch.stack([tensor_C,tensor_C],dim=1) #along the y-axis\n",
        "print('\\n',tensor_C,'\\n\\n',tensor_C_stacked)"
      ],
      "metadata": {
        "id": "QukcV1Q-4g4T"
      },
      "execution_count": null,
      "outputs": []
    },
    {
      "cell_type": "code",
      "source": [
        "tensor_C_stacked=torch.stack([tensor_C,tensor_C],dim=0) #along the x-axis\n",
        "print('\\n',tensor_C,'\\n\\n',tensor_C_stacked)"
      ],
      "metadata": {
        "id": "5Nnzxt_65cLk"
      },
      "execution_count": null,
      "outputs": []
    },
    {
      "cell_type": "markdown",
      "source": [
        "###*.squeeze()*"
      ],
      "metadata": {
        "id": "fecIjsED6G-x"
      }
    },
    {
      "cell_type": "code",
      "source": [
        "#removes all the single dimensions for a target tensor\n",
        "tensor_C_dimen_squeezed=tensor_C_dimen.squeeze()\n",
        "print('\\n',f\"Shape of base tensor: {tensor_C_dimen.shape}\",'\\n\\n',f\"Shape of squeezed tensor: {tensor_C_dimen_squeezed.shape}\")"
      ],
      "metadata": {
        "id": "iHDsW3a95nCc"
      },
      "execution_count": null,
      "outputs": []
    },
    {
      "cell_type": "markdown",
      "source": [
        "###*.unsqueeze()*"
      ],
      "metadata": {
        "id": "YK6_lh3W_F4T"
      }
    },
    {
      "cell_type": "code",
      "source": [
        "#Unsqueezes the tensor with additional dimensions\n",
        "tensor_C_unsqueezed=tensor_C_dimen_squeezed.unsqueeze(dim=0) #along the x-axis\n",
        "print('\\n',f\"Shape of base tensor: {tensor_C_dimen_squeezed.shape}\",'\\n\\n',f\"Shape of unsqueezed tensor: {tensor_C_unsqueezed.shape}\")"
      ],
      "metadata": {
        "id": "11iJcT016mjn"
      },
      "execution_count": null,
      "outputs": []
    },
    {
      "cell_type": "code",
      "source": [
        "tensor_C_unsqueezed=tensor_C_dimen_squeezed.unsqueeze(dim=1) #along the y-axis\n",
        "print('\\n',f\"Shape of base tensor: {tensor_C_dimen_squeezed.shape}\",'\\n\\n',f\"Shape of unsqueezed tensor: {tensor_C_unsqueezed.shape}\")"
      ],
      "metadata": {
        "id": "VyeEeNJU-r5J"
      },
      "execution_count": null,
      "outputs": []
    },
    {
      "cell_type": "code",
      "source": [
        "#torch.permute() - rearranges the dimensions of a target tensor in a specified order\n",
        "tensor_D=torch.rand(size=(245,255,3)) #(height,width,color_channels)\n",
        "\n",
        "#permute the original tensor to rearrange the axis (or dim) order\n",
        "tensor_D_permuted=tensor_D.permute(2,0,1) #shifts axis 0->2 1->0 2->1 (color,height,width)\n",
        "\n",
        "print('\\n',f\"Shape of base tensor: {tensor_D.shape}\",'\\n\\n',f\"Shape of unsqueezed tensor: {tensor_D_permuted.shape}\")"
      ],
      "metadata": {
        "id": "Dk1sHWxr-0iV"
      },
      "execution_count": null,
      "outputs": []
    },
    {
      "cell_type": "markdown",
      "source": [
        "##Indexing (selecting data from tensors)"
      ],
      "metadata": {
        "id": "buZCN0vA5l90"
      }
    },
    {
      "cell_type": "code",
      "source": [
        "tensor_A=torch.arange(1,10).reshape(1,3,3)\n",
        "tensor_A"
      ],
      "metadata": {
        "id": "aOjcitIQ_qVd"
      },
      "execution_count": null,
      "outputs": []
    },
    {
      "cell_type": "code",
      "source": [
        "tensor_A[0] #accessing the outermost"
      ],
      "metadata": {
        "id": "WJx4RH9j7Vd4"
      },
      "execution_count": null,
      "outputs": []
    },
    {
      "cell_type": "code",
      "source": [
        "tensor_A[0][0] #accessing the middle"
      ],
      "metadata": {
        "id": "uvQL-d7V7cG0"
      },
      "execution_count": null,
      "outputs": []
    },
    {
      "cell_type": "code",
      "source": [
        "tensor_A[0][0][0] #accessing the innermost"
      ],
      "metadata": {
        "id": "wHV70wNq7iiT"
      },
      "execution_count": null,
      "outputs": []
    },
    {
      "cell_type": "code",
      "source": [
        "#to get all the value we use ':'\n",
        "tensor_A[:,:,2]"
      ],
      "metadata": {
        "id": "weR-FwpH7l6R"
      },
      "execution_count": null,
      "outputs": []
    },
    {
      "cell_type": "code",
      "source": [
        "tensor_A[0,:,2]"
      ],
      "metadata": {
        "id": "0Jh0yzsr8nVB"
      },
      "execution_count": null,
      "outputs": []
    },
    {
      "cell_type": "markdown",
      "source": [
        "##PyTorch tensors and NumPy"
      ],
      "metadata": {
        "id": "WorwQrsE_IzA"
      }
    },
    {
      "cell_type": "code",
      "source": [
        "#NumPy array to tensor\n",
        "array=np.arange(1.0,9.0)\n",
        "tensor=torch.from_numpy(array)\n",
        "array,tensor"
      ],
      "metadata": {
        "id": "LqanmpB99JQa"
      },
      "execution_count": null,
      "outputs": []
    },
    {
      "cell_type": "code",
      "source": [
        "#tensor to NumPy\n",
        "tensor=torch.ones(7)\n",
        "numpy_tensor=tensor.numpy()\n",
        "tensor,numpy_tensor"
      ],
      "metadata": {
        "id": "oJGacKZA_mds"
      },
      "execution_count": null,
      "outputs": []
    },
    {
      "cell_type": "markdown",
      "source": [
        "##Reproducibility (trying to take random out of random)"
      ],
      "metadata": {
        "id": "Mwfsub6HBU8b"
      }
    },
    {
      "cell_type": "code",
      "source": [
        "random_seed=42\n",
        "\n",
        "torch.manual_seed(random_seed)\n",
        "tensor_A=torch.rand(3,3)\n",
        "\n",
        "torch.manual_seed(random_seed)\n",
        "tensor_B=torch.rand(3,3)\n",
        "\n",
        "print('\\n',tensor_A,'\\n\\n',tensor_B)\n",
        "print('\\n',tensor_A==tensor_B)"
      ],
      "metadata": {
        "id": "b2dSR28uA5Dc"
      },
      "execution_count": null,
      "outputs": []
    }
  ],
  "metadata": {
    "colab": {
      "provenance": [],
      "mount_file_id": "1vCYcTcBGoMagj26-do3_sG8twbv8hQip",
      "authorship_tag": "ABX9TyOvaztuwaxIythiuoM/Taas"
    },
    "kernelspec": {
      "display_name": "Python 3",
      "name": "python3"
    },
    "language_info": {
      "name": "python"
    }
  },
  "nbformat": 4,
  "nbformat_minor": 0
}